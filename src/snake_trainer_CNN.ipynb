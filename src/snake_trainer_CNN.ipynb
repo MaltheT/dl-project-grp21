{
 "cells": [
  {
   "cell_type": "code",
   "execution_count": 92,
   "metadata": {},
   "outputs": [
    {
     "name": "stderr",
     "output_type": "stream",
     "text": [
      "c:\\Users\\Malthe\\anaconda3\\lib\\site-packages\\gym\\utils\\passive_env_checker.py:174: UserWarning: \u001b[33mWARN: Future gym versions will require that `Env.reset` can be passed a `seed` instead of using `Env.seed` for resetting the environment random number generator.\u001b[0m\n",
      "  logger.warn(\n",
      "c:\\Users\\Malthe\\anaconda3\\lib\\site-packages\\gym\\utils\\passive_env_checker.py:190: UserWarning: \u001b[33mWARN: Future gym versions will require that `Env.reset` can be passed `return_info` to return information from the environment resetting.\u001b[0m\n",
      "  logger.warn(\n",
      "c:\\Users\\Malthe\\anaconda3\\lib\\site-packages\\gym\\utils\\passive_env_checker.py:195: UserWarning: \u001b[33mWARN: Future gym versions will require that `Env.reset` can be passed `options` to allow the environment initialisation to be passed additional information.\u001b[0m\n",
      "  logger.warn(\n"
     ]
    }
   ],
   "source": [
    "#!/usr/bin/env python\n",
    "import sys\n",
    "sys.path.insert(0, './gym-snake/')\n",
    "import gym\n",
    "import time\n",
    "from optparse import OptionParser\n",
    "import gym_snake\n",
    "from gym_snake.envs.constants import GridType, Action4, Action6\n",
    "from PyQt5.QtCore import Qt\n",
    "\n",
    "from gym import wrappers\n",
    "import math\n",
    "import random\n",
    "import numpy as np\n",
    "import matplotlib\n",
    "import matplotlib.pyplot as plt\n",
    "from collections import namedtuple, deque\n",
    "from itertools import count\n",
    "from PIL import Image\n",
    "\n",
    "import torch\n",
    "import torch.nn as nn\n",
    "import torch.optim as optim\n",
    "import torch.nn.functional as F\n",
    "import torchvision.transforms as T\n",
    "import warnings\n",
    "warnings.filterwarnings(\"ignore\", category=DeprecationWarning) \n",
    "\n",
    "__author__ = \"Malthe Faurschou Tøttrup\"\n",
    "__email__ = \"malthe@toettrup.dk\"\n",
    "\n",
    "is_done = False\n",
    "\n",
    "\n",
    "# Load the gym environment\n",
    "env = gym.make('Snake-8x8-v0')\n",
    "\n",
    "def resetEnv():\n",
    "    global is_done\n",
    "\n",
    "    is_done = False\n",
    "    env.reset()\n",
    "\n",
    "resetEnv()\n",
    "\n",
    "# set up matplotlib\n",
    "is_ipython = 'inline' in matplotlib.get_backend()\n",
    "if is_ipython:\n",
    "    from IPython import display\n",
    "\n",
    "plt.ion()\n",
    "\n",
    "# if gpu is to be used\n",
    "device = torch.device(\"cuda\" if torch.cuda.is_available() else \"cpu\")"
   ]
  },
  {
   "cell_type": "code",
   "execution_count": 93,
   "metadata": {},
   "outputs": [],
   "source": [
    "#Reward shaping\n"
   ]
  },
  {
   "cell_type": "code",
   "execution_count": 94,
   "metadata": {},
   "outputs": [],
   "source": [
    "Transition = namedtuple('Transition',\n",
    "                        ('state', 'action', 'next_state', 'reward'))\n",
    "\n",
    "\n",
    "class ReplayMemory(object):\n",
    "\n",
    "    def __init__(self, capacity):\n",
    "        self.memory = deque([],maxlen=capacity)\n",
    "\n",
    "    def push(self, *args):\n",
    "        \"\"\"Save a transition\"\"\"\n",
    "        self.memory.append(Transition(*args))\n",
    "\n",
    "    def sample(self, batch_size):\n",
    "        return random.sample(self.memory, batch_size)\n",
    "\n",
    "    def __len__(self):\n",
    "        return len(self.memory)"
   ]
  },
  {
   "cell_type": "code",
   "execution_count": 95,
   "metadata": {},
   "outputs": [
    {
     "name": "stderr",
     "output_type": "stream",
     "text": [
      "c:\\Users\\Malthe\\anaconda3\\lib\\site-packages\\torchvision\\transforms\\transforms.py:329: UserWarning: Argument 'interpolation' of type int is deprecated since 0.13 and will be removed in 0.15. Please use InterpolationMode enum.\n",
      "  warnings.warn(\n"
     ]
    }
   ],
   "source": [
    "resize = T.Compose([T.ToPILImage(),\n",
    "                    T.Resize(16, interpolation=Image.BOX),\n",
    "                    T.ToTensor()])\n",
    "\n",
    "def get_screen():\n",
    "    # Returned screen requested by gym is 400x600x3, but is sometimes larger\n",
    "    # such as 800x1200x3. Transpose it into torch order (CHW).\n",
    "    screen = env.render(mode='rgb_array').transpose((2, 0, 1))\n",
    "\n",
    "    # Convert to float, rescale, convert to torch tensor\n",
    "    # (this doesn't require a copy)\n",
    "    screen = np.ascontiguousarray(screen, dtype=np.float32) / 255\n",
    "    screen = torch.from_numpy(screen)\n",
    "    # Resize, and add a batch dimension (BCHW) #TODO: CHANGE\n",
    "    return resize(screen).unsqueeze(0)\n"
   ]
  },
  {
   "cell_type": "code",
   "execution_count": 96,
   "metadata": {},
   "outputs": [],
   "source": [
    "class DQL_CNN(nn.Module):\n",
    "    \n",
    "    def __init__(self, outputs):\n",
    "        super(DQL_CNN, self).__init__()\n",
    "        self.conv1 = nn.Conv2d(3, 8, kernel_size=3, padding='same')\n",
    "        self.maxpool1 = nn.MaxPool2d(kernel_size=2)\n",
    "        self.conv2 = nn.Conv2d(8, 16, kernel_size=5, padding='same')\n",
    "        self.maxpool2 = nn.MaxPool2d(kernel_size=2)\n",
    "        self.conv3 = nn.Conv2d(16, 64, kernel_size=5, padding='same')\n",
    "        self.bn1 = nn.BatchNorm2d(64)\n",
    "        self.fc1 = nn.Linear(1024, outputs)\n",
    "\n",
    "    def forward(self, x):\n",
    "        x = x.to(device)\n",
    "        x = F.relu(self.conv1(x))\n",
    "        x = self.maxpool1(x)\n",
    "        x = F.relu(self.conv2(x))\n",
    "        x = self.maxpool2(x)\n",
    "        x = F.relu(self.conv3(x))\n",
    "        x = self.bn1(x)\n",
    "        x = self.fc1(x.view(x.size(0), -1))\n",
    "        return x\n",
    "    \n",
    "\n",
    "\"\"\" Deep Minds architecture for reference \"\"\"\n",
    "class DQL_DeepMind(nn.Module):\n",
    "        \n",
    "    def __init__(self, outputs):\n",
    "        super(DQN_DeepMind, self).__init__()\n",
    "        self.conv1 = nn.Conv2d(3, 32, kernel_size=8, padding='valid', stride=4)\n",
    "        self.conv2 = nn.Conv2d(32, 64, kernel_size=4, padding='valid', stride=2)\n",
    "        self.conv3 = nn.Conv2d(64, 64, kernel_size=3, padding='valid', stride=1)\n",
    "        self.fc1 = nn.Linear(1024, outputs) #origninally 512\n",
    "\n",
    "    # Called with either one element to determine next action, or a batch\n",
    "    # during optimization. Returns tensor([[left0exp,right0exp]...]).\n",
    "    def forward(self, x):\n",
    "        x = x.to(device)\n",
    "        x = F.relu(self.conv1(x))\n",
    "        x = F.relu(self.conv2(x))\n",
    "        x = F.relu(self.conv3(x))\n",
    "        x = self.fc1(x.view(x.size(0), -1))\n",
    "        return x"
   ]
  },
  {
   "cell_type": "code",
   "execution_count": 97,
   "metadata": {},
   "outputs": [],
   "source": [
    "\"\"\" Hyperparameters \"\"\"\n",
    "BATCH_SIZE = 128\n",
    "GAMMA = 0.95\n",
    "\n",
    "exploration_rate = 1.\n",
    "exploration_decay = 0.999\n",
    "exploration_min = 0.1\n",
    "\n",
    "TARGET_UPDATE = 1000\n",
    "learning_rate = 1e-4  \n",
    "decay_rate = 0.99 \n",
    "num_episodes = 10000\n",
    "MEMORY_SIZE = 10000"
   ]
  },
  {
   "cell_type": "code",
   "execution_count": 98,
   "metadata": {},
   "outputs": [],
   "source": [
    "\"\"\" Network initialization \"\"\"\n",
    "\n",
    "\n",
    "\n",
    "# Get screen size so that we can initialize layers correctly based on shape\n",
    "# returned from AI gym. Typical dimensions at this point are close to 3x40x90\n",
    "# which is the result of a clamped and down-scaled render buffer in get_screen()\n",
    "# screen_height, screen_width, _ = screen = env.render(mode='rgb_array').shape \n",
    "\n",
    "# Get number of actions from gym action space\n",
    "n_actions = env.action_space.n\n",
    "\n",
    "\"\"\" Initialize policy net and target net \"\"\"\n",
    "policy_net = DQL_CNN(n_actions).to(device)\n",
    "target_net = DQL_CNN(n_actions).to(device)\n",
    "\n",
    "target_net.load_state_dict(policy_net.state_dict())\n",
    "target_net.eval()\n",
    "\n",
    "\"\"\" Optimizer \"\"\"\n",
    "#ref: https://ai.stackexchange.com/questions/9298/neural-network-optimizers-in-reinforcement-learning-non-well-behaved-environment\n",
    "#ref: https://stackoverflow.com/questions/59833217/best-reinforcement-learner-optimizer\n",
    "#optimizer = optim.RMSprop(policy_net.parameters(), lr=learning_rate, weight_decay=decay_rate) \n",
    "optimizer = optim.RMSprop(policy_net.parameters())\n",
    "#optimizer = optim.Adam(policy_net.parameters())\n",
    "#optimizer = optim.SGD(policy_net.parameters())\n",
    "\n",
    "\n",
    "\"\"\" Loss function \"\"\"\n",
    "#criterion = nn.CrossEntropyLoss()\n",
    "#criterion = nn.NLLLoss()\n",
    "criterion = nn.SmoothL1Loss()\n",
    "#criterion = nn.MSELoss()\n",
    "\n",
    "\"\"\" Initialize experince memory \"\"\"\n",
    "memory = ReplayMemory(MEMORY_SIZE)\n",
    "\n",
    "steps_done = 0\n",
    "\n",
    "def select_action(state):\n",
    "    global steps_done\n",
    "    global exploration_rate\n",
    "    exploration_rate *= exploration_decay\n",
    "    exploration_rate = max(exploration_rate, exploration_min)\n",
    "    steps_done += 1\n",
    "    if np.random.rand() > exploration_rate:\n",
    "        with torch.no_grad():\n",
    "            # t.max(1) will return largest column value of each row.\n",
    "            # second column on max result is index of where max element was\n",
    "            # found, so we pick action with the larger expected reward.\n",
    "            return policy_net(state).max(1)[1].view(1, 1)\n",
    "    else:\n",
    "        return torch.tensor([[random.randrange(n_actions)]], device=device, dtype=torch.long)\n"
   ]
  },
  {
   "cell_type": "code",
   "execution_count": 99,
   "metadata": {},
   "outputs": [],
   "source": [
    "\"\"\" Model Optimization \"\"\"\n",
    "\n",
    "losses = []\n",
    "mean_loss = []\n",
    "def optimize_model():\n",
    "        \n",
    "    if len(memory) < BATCH_SIZE:\n",
    "        return\n",
    "\n",
    "    transitions = memory.sample(BATCH_SIZE)\n",
    "    \n",
    "    # Transpose the batch (see https://stackoverflow.com/a/19343/3343043 for\n",
    "    # detailed explanation). This converts batch-array of Transitions\n",
    "    # to Transition of batch-arrays.\n",
    "    batch = Transition(*zip(*transitions))\n",
    "\n",
    "    # Compute a mask of non-final states and concatenate the batch elements\n",
    "    # (a final state would've been the one after which simulation ended)\n",
    "    non_final_mask = torch.tensor(tuple(map(lambda s: s is not None,\n",
    "                                          batch.next_state)), device=device, dtype=torch.bool)\n",
    "                                          \n",
    "    non_final_next_states = torch.cat([s for s in batch.next_state\n",
    "                                                if s is not None])\n",
    "    state_batch = torch.cat(batch.state)\n",
    "    action_batch = torch.cat(batch.action)\n",
    "    reward_batch = torch.cat(batch.reward)\n",
    "\n",
    "    # Compute Q(s_t, a) - the model computes Q(s_t), then we select the\n",
    "    # columns of actions taken. These are the actions which would've been taken\n",
    "    # for each batch state according to policy_net\n",
    "    state_action_values = policy_net(state_batch).gather(1, action_batch)\n",
    "\n",
    "    # Compute V(s_{t+1}) for all next states.\n",
    "    # Expected values of actions for non_final_next_states are computed based\n",
    "    # on the \"older\" target_net; selecting their best reward with max(1)[0].\n",
    "    # This is merged based on the mask, such that we'll have either the expected\n",
    "    # state value or 0 in case the state was final.\n",
    "    next_state_values = torch.zeros(BATCH_SIZE, device=device)\n",
    "    next_state_values[non_final_mask] = target_net(non_final_next_states).max(1)[0].detach()\n",
    "    # Compute the expected Q values\n",
    "    expected_state_action_values = (next_state_values * GAMMA) + reward_batch\n",
    "    \n",
    "    #print(expected_state_action_values.unsqueeze(1))\n",
    "    #print(state_action_values)\n",
    "    # Compute Huber loss\n",
    "    loss = criterion(state_action_values, expected_state_action_values.unsqueeze(1))\n",
    "\n",
    "    losses.append(loss.to('cpu').detach().numpy())\n",
    "    mean_loss.append(np.mean(losses))\n",
    "    \n",
    "    # Optimize the model\n",
    "    optimizer.zero_grad()\n",
    "    loss.backward()\n",
    "    for param in policy_net.parameters():\n",
    "        param.grad.data.clamp_(-1, 1)\n",
    "    optimizer.step()\n",
    "\n"
   ]
  },
  {
   "cell_type": "code",
   "execution_count": 100,
   "metadata": {},
   "outputs": [
    {
     "name": "stderr",
     "output_type": "stream",
     "text": [
      "c:\\Users\\Malthe\\anaconda3\\lib\\site-packages\\gym\\utils\\passive_env_checker.py:280: UserWarning: \u001b[33mWARN: No render modes was declared in the environment (env.metadata['render_modes'] is None or not defined), you may have trouble when calling `.render()`.\u001b[0m\n",
      "  logger.warn(\n"
     ]
    },
    {
     "name": "stdout",
     "output_type": "stream",
     "text": [
      "playing episode:  100 / 10000  mean loss =>  2.0196 mean reward =>  -0.94\n",
      "playing episode:  200 / 10000  mean loss =>  3.4236 mean reward =>  -0.92\n",
      "playing episode:  300 / 10000  mean loss =>  11.7955 mean reward =>  -0.87\n",
      "playing episode:  400 / 10000  mean loss =>  12.2151 mean reward =>  -0.96\n",
      "playing episode:  500 / 10000  mean loss =>  10.1096 mean reward =>  -0.97\n",
      "playing episode:  600 / 10000  mean loss =>  7.6099 mean reward =>  -0.91\n",
      "playing episode:  700 / 10000  mean loss =>  5.1002 mean reward =>  -0.68\n",
      "playing episode:  800 / 10000  mean loss =>  3.2254 mean reward =>  -0.48\n",
      "playing episode:  900 / 10000  mean loss =>  2.2361 mean reward =>  -0.36\n",
      "playing episode:  1000 / 10000  mean loss =>  1.8993 mean reward =>  -0.4\n",
      "playing episode:  1100 / 10000  mean loss =>  1.61 mean reward =>  -0.39\n",
      "playing episode:  1200 / 10000  mean loss =>  1.3779 mean reward =>  -0.16\n",
      "playing episode:  1300 / 10000  mean loss =>  1.2042 mean reward =>  -0.46\n",
      "playing episode:  1400 / 10000  mean loss =>  1.1096 mean reward =>  -0.35\n",
      "playing episode:  1500 / 10000  mean loss =>  0.9928 mean reward =>  -0.08\n",
      "playing episode:  1600 / 10000  mean loss =>  0.9116 mean reward =>  -0.07\n",
      "playing episode:  1700 / 10000  mean loss =>  0.8402 mean reward =>  -0.09\n",
      "playing episode:  1800 / 10000  mean loss =>  0.7725 mean reward =>  0.21\n",
      "playing episode:  1900 / 10000  mean loss =>  0.7193 mean reward =>  0.2\n",
      "playing episode:  2000 / 10000  mean loss =>  0.6741 mean reward =>  0.48\n",
      "playing episode:  2100 / 10000  mean loss =>  0.6275 mean reward =>  0.63\n",
      "playing episode:  2200 / 10000  mean loss =>  0.5906 mean reward =>  0.84\n",
      "playing episode:  2300 / 10000  mean loss =>  0.5617 mean reward =>  0.78\n",
      "playing episode:  2400 / 10000  mean loss =>  0.5322 mean reward =>  0.92\n",
      "playing episode:  2500 / 10000  mean loss =>  0.5059 mean reward =>  1.01\n",
      "playing episode:  2600 / 10000  mean loss =>  0.4822 mean reward =>  0.96\n",
      "playing episode:  2700 / 10000  mean loss =>  0.4625 mean reward =>  1.02\n"
     ]
    }
   ],
   "source": [
    "\"\"\" Training \"\"\"\n",
    "\n",
    "num_model = \"CNN1\"\n",
    "save_path = 'models/snakeai'+str(num_model)+'.pkl'\n",
    "\n",
    "episode_reward = 0\n",
    "rewards = []\n",
    "moveing_average_rewards = []\n",
    "\n",
    "for i_episode in range(num_episodes):\n",
    "\n",
    "    episode_reward = 0\n",
    "\n",
    "    if i_episode % 100 == 0 and i_episode != 0:\n",
    "        print(\"playing episode: \", i_episode,\"/\",num_episodes, \n",
    "        \" mean loss => \", round(mean_loss[-1],4),\n",
    "        \"mean reward => \", round(moveing_average_rewards[-1], 4))\n",
    "\n",
    "    # Initialize the environment and state\n",
    "    env.reset()\n",
    "    last_screen = get_screen()\n",
    "    current_screen = get_screen()\n",
    "    state = current_screen + last_screen\n",
    "\n",
    "\n",
    "    for t in count():\n",
    "        # Select and perform an action\n",
    "        action = select_action(state)\n",
    "        _, reward, done, _ = env.step(action.item())\n",
    "        reward = torch.tensor([reward], device=device).long()\n",
    "        episode_reward += reward\n",
    "\n",
    "        # Observe new state\n",
    "        last_screen = current_screen\n",
    "        current_screen = get_screen()\n",
    "        if not done:\n",
    "            next_state = current_screen + last_screen\n",
    "        else:\n",
    "            next_state = None\n",
    "\n",
    "        # Store the transition in memory\n",
    "        memory.push(state, action, next_state, reward)\n",
    "\n",
    "        # Move to the next state\n",
    "        state = next_state\n",
    "\n",
    "        # Perform one step of the optimization (on the policy network)\n",
    "        optimize_model()\n",
    "        \n",
    "        if done:\n",
    "            rewards.append(episode_reward.item())\n",
    "            # Take the mean of the last 100 rewards\n",
    "            moveing_average_rewards.append(np.mean(rewards[-100:]))\n",
    "            break\n",
    "\n",
    "        # Update the target network, copying all weights and biases in DQN\n",
    "        if t % TARGET_UPDATE == 0:\n",
    "            target_net.load_state_dict(policy_net.state_dict())\n",
    "            torch.save(policy_net.state_dict(), save_path)\n",
    "\n",
    "print('Complete')\n",
    "env.close()\n",
    "plt.plot(rewards)\n",
    "plt.plot(moveing_average_rewards)\n",
    "plt.ioff()\n",
    "plt.show()"
   ]
  },
  {
   "cell_type": "code",
   "execution_count": null,
   "metadata": {},
   "outputs": [
    {
     "data": {
      "text/plain": [
       "[<matplotlib.lines.Line2D at 0x1e1ea1d1c10>]"
      ]
     },
     "execution_count": 90,
     "metadata": {},
     "output_type": "execute_result"
    },
    {
     "data": {
      "image/png": "[encoded data removed]",
      "text/plain": [
       "<Figure size 432x288 with 1 Axes>"
      ]
     },
     "metadata": {
      "needs_background": "light"
     },
     "output_type": "display_data"
    }
   ],
   "source": [
    "plt.plot(losses)\n",
    "plt.plot(mean_loss[-len(mean_loss)+1000:])"
   ]
  },
  {
   "cell_type": "code",
   "execution_count": null,
   "metadata": {},
   "outputs": [
    {
     "name": "stderr",
     "output_type": "stream",
     "text": [
      "c:\\Users\\Malthe\\anaconda3\\lib\\site-packages\\gym\\wrappers\\record_video.py:78: UserWarning: \u001b[33mWARN: Overwriting existing videos at c:\\Users\\Malthe\\dl-project-grp21\\src\\video\\CNN folder (try specifying a different `video_folder` for the `RecordVideo` wrapper if this is not desired)\u001b[0m\n",
      "  logger.warn(\n"
     ]
    }
   ],
   "source": [
    "\"\"\" Record 10 videos \"\"\"\n",
    "\n",
    "training = False\n",
    "\n",
    "if(not training):\n",
    "\n",
    "    num_episodes = 10\n",
    "\n",
    "    env = gym.wrappers.RecordVideo(env, 'video/CNN', episode_trigger = lambda x: x % 1 == 0)\n",
    "\n",
    "    episode_reward = 0\n",
    "    rewards = []\n",
    "\n",
    "    for i_episode in range(num_episodes):\n",
    "\n",
    "        # Initialize the environment and state\n",
    "        env.reset()\n",
    "        last_screen = get_screen()\n",
    "        current_screen = get_screen()\n",
    "        state = current_screen + last_screen\n",
    "\n",
    "        for t in count():\n",
    "            # Select and perform an action\n",
    "            action = target_net(state).max(1)[1].view(1, 1)\n",
    "            _, reward, done, _ = env.step(action.item())\n",
    "            reward = torch.tensor([reward], device=device)\n",
    "            episode_reward += reward\n",
    "\n",
    "            # Observe new state\n",
    "            last_screen = current_screen\n",
    "            current_screen = get_screen()\n",
    "            if not done:\n",
    "                next_state = current_screen + last_screen\n",
    "            else:\n",
    "                next_state = None\n",
    "\n",
    "            # Move to the next state\n",
    "            state = next_state\n",
    "\n",
    "            if done:\n",
    "                rewards.append(episode_reward.item())\n",
    "                break"
   ]
  },
  {
   "cell_type": "code",
   "execution_count": null,
   "metadata": {},
   "outputs": [
    {
     "data": {
      "text/plain": [
       "0.3901000293725079"
      ]
     },
     "execution_count": 5,
     "metadata": {},
     "output_type": "execute_result"
    }
   ],
   "source": [
    "import numpy as np\n",
    "np.random.rand()"
   ]
  },
  {
   "cell_type": "code",
   "execution_count": null,
   "metadata": {},
   "outputs": [
    {
     "data": {
      "text/plain": [
       "500000.0"
      ]
     },
     "execution_count": 6,
     "metadata": {},
     "output_type": "execute_result"
    }
   ],
   "source": [
    "5e5"
   ]
  },
  {
   "cell_type": "code",
   "execution_count": null,
   "metadata": {},
   "outputs": [],
   "source": []
  }
 ],
 "metadata": {
  "kernelspec": {
   "display_name": "Python 3.8.8 ('base')",
   "language": "python",
   "name": "python3"
  },
  "language_info": {
   "codemirror_mode": {
    "name": "ipython",
    "version": 3
   },
   "file_extension": ".py",
   "mimetype": "text/x-python",
   "name": "python",
   "nbconvert_exporter": "python",
   "pygments_lexer": "ipython3",
   "version": "3.8.8"
  },
  "orig_nbformat": 4,
  "vscode": {
   "interpreter": {
    "hash": "254e9f966fdd266b75575fbc84e9f6d50a75a4857e636ccd6e0720677961e053"
   }
  }
 },
 "nbformat": 4,
 "nbformat_minor": 2
}
