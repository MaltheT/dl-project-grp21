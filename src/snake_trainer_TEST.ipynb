{
 "cells": [
  {
   "cell_type": "code",
   "execution_count": 1,
   "metadata": {},
   "outputs": [],
   "source": [
    "#!/usr/bin/env python\n",
    "import sys\n",
    "sys.path.insert(0, './gym-snake/')\n",
    "import gym\n",
    "import time\n",
    "from optparse import OptionParser\n",
    "import gym_snake\n",
    "from gym_snake.envs.constants import GridType, Action4, Action6\n",
    "from PyQt5.QtCore import Qt\n",
    "\n",
    "from gym import wrappers\n",
    "import math\n",
    "import random\n",
    "import numpy as np\n",
    "import matplotlib\n",
    "import matplotlib.pyplot as plt\n",
    "from collections import namedtuple, deque\n",
    "from itertools import count\n",
    "from PIL import Image\n",
    "import os\n",
    "\n",
    "import torch\n",
    "import torch.nn as nn\n",
    "import torch.optim as optim\n",
    "import torch.nn.functional as F\n",
    "import torchvision.transforms as T\n",
    "import warnings\n",
    "warnings.filterwarnings(\"ignore\", category=DeprecationWarning) \n",
    "warnings.filterwarnings(\"ignore\", category=UserWarning)\n",
    "\n",
    "from snake_util import ReplayMemory, SnakeUtil, Transition\n",
    "\n",
    "__author__ = \"Malthe Faurschou Tøttrup\"\n",
    "__email__ = \"malthe@toettrup.dk\"\n",
    "\n",
    "# Load the gym environment\n",
    "env = gym.make('Snake-8x8-v0')\n",
    "\n",
    "env.reset() # Reset the environment\n",
    "\n",
    "# set up matplotlib\n",
    "is_ipython = 'inline' in matplotlib.get_backend()\n",
    "if is_ipython:\n",
    "    from IPython import display\n",
    "\n",
    "plt.ion() # Turn on interactive mode\n",
    "\n",
    "# if gpu is to be used\n",
    "device = torch.device(\"cuda\" if torch.cuda.is_available() else \"cpu\")\n",
    "display.clear_output()"
   ]
  },
  {
   "cell_type": "code",
   "execution_count": 2,
   "metadata": {},
   "outputs": [],
   "source": [
    "class NET(nn.Module):    \n",
    "    def __init__(self, outputs):\n",
    "        super(NET, self).__init__()\n",
    "        self.outputs = outputs\n",
    "        self.sequential = nn.Sequential(\n",
    "            nn.Flatten(),\n",
    "            nn.Linear(768, 1024),\n",
    "            nn.ReLU(),\n",
    "            nn.Linear(1024, 1024),\n",
    "            nn.ReLU(),\n",
    "            # nn.Linear(1024, 1024),\n",
    "            # nn.ReLU(),\n",
    "            # nn.Linear(1024, 1024),\n",
    "            # nn.ReLU(),\n",
    "            # nn.Linear(1024, 1024),\n",
    "            # nn.ReLU(),\n",
    "            nn.Linear(1024, self.outputs),\n",
    "        )\n",
    "    # Called with either one element to determine next action, or a batch\n",
    "    # during optimization. Returns tensor([[left0exp,right0exp]...]).\n",
    "    def forward(self, x):\n",
    "        x = x.to(device)\n",
    "        x = self.sequential(x)\n",
    "        return x\n",
    "\n",
    "\n",
    "\"\"\" Hyperparameters \"\"\"\n",
    "NAME = \"CNN_TEST\"\n",
    "BATCH_SIZE = 128\n",
    "GAMMA = 0.95\n",
    "\n",
    "exploration_rate = 1.\n",
    "exploration_decay = 0.999\n",
    "exploration_min = 0.1\n",
    "\n",
    "TARGET_UPDATE = 1000\n",
    "learning_rate = 1e-4  \n",
    "decay_rate = 0.99 \n",
    "num_episodes = 10000\n",
    "MEMORY_SIZE = 10000"
   ]
  },
  {
   "cell_type": "code",
   "execution_count": 3,
   "metadata": {},
   "outputs": [],
   "source": [
    "\"\"\" Initialize policy net and target net \"\"\"\n",
    "policy_net = NET(env.action_space.n).to(device)\n",
    "target_net = NET(env.action_space.n).to(device)\n",
    "\n",
    "target_net.load_state_dict(policy_net.state_dict())\n",
    "target_net.eval()\n",
    "\n",
    "\"\"\" Initialize Utility functions\"\"\"\n",
    "snakeUtil = SnakeUtil(NAME, env,policy_net, target_net ,device, exploration_rate, exploration_decay, exploration_min, MEMORY_SIZE, TARGET_UPDATE, BATCH_SIZE, GAMMA)"
   ]
  },
  {
   "cell_type": "code",
   "execution_count": 4,
   "metadata": {},
   "outputs": [
    {
     "name": "stdout",
     "output_type": "stream",
     "text": [
      "==========================================================================================\n",
      "Layer (type:depth-idx)                   Output Shape              Param #\n",
      "==========================================================================================\n",
      "├─Sequential: 1-1                        [-1, 3]                   --\n",
      "|    └─Flatten: 2-1                      [-1, 768]                 --\n",
      "|    └─Linear: 2-2                       [-1, 1024]                787,456\n",
      "|    └─ReLU: 2-3                         [-1, 1024]                --\n",
      "|    └─Linear: 2-4                       [-1, 1024]                1,049,600\n",
      "|    └─ReLU: 2-5                         [-1, 1024]                --\n",
      "|    └─Linear: 2-6                       [-1, 3]                   3,075\n",
      "==========================================================================================\n",
      "Total params: 1,840,131\n",
      "Trainable params: 1,840,131\n",
      "Non-trainable params: 0\n",
      "Total mult-adds (M): 3.68\n",
      "==========================================================================================\n",
      "Input size (MB): 0.00\n",
      "Forward/backward pass size (MB): 0.02\n",
      "Params size (MB): 7.02\n",
      "Estimated Total Size (MB): 7.04\n",
      "==========================================================================================\n"
     ]
    },
    {
     "data": {
      "text/plain": [
       "==========================================================================================\n",
       "Layer (type:depth-idx)                   Output Shape              Param #\n",
       "==========================================================================================\n",
       "├─Sequential: 1-1                        [-1, 3]                   --\n",
       "|    └─Flatten: 2-1                      [-1, 768]                 --\n",
       "|    └─Linear: 2-2                       [-1, 1024]                787,456\n",
       "|    └─ReLU: 2-3                         [-1, 1024]                --\n",
       "|    └─Linear: 2-4                       [-1, 1024]                1,049,600\n",
       "|    └─ReLU: 2-5                         [-1, 1024]                --\n",
       "|    └─Linear: 2-6                       [-1, 3]                   3,075\n",
       "==========================================================================================\n",
       "Total params: 1,840,131\n",
       "Trainable params: 1,840,131\n",
       "Non-trainable params: 0\n",
       "Total mult-adds (M): 3.68\n",
       "==========================================================================================\n",
       "Input size (MB): 0.00\n",
       "Forward/backward pass size (MB): 0.02\n",
       "Params size (MB): 7.02\n",
       "Estimated Total Size (MB): 7.04\n",
       "=========================================================================================="
      ]
     },
     "execution_count": 4,
     "metadata": {},
     "output_type": "execute_result"
    }
   ],
   "source": [
    "from torchsummary import summary\n",
    "summary(policy_net, (3, 16, 16))"
   ]
  },
  {
   "cell_type": "code",
   "execution_count": 5,
   "metadata": {},
   "outputs": [
    {
     "name": "stdout",
     "output_type": "stream",
     "text": [
      "Playing episode: 100/10000 \tMean loss => 0.0007 \tMean reward => -0.96\n",
      "Playing episode: 200/10000 \tMean loss => 0.0038 \tMean reward => -0.93\n",
      "episode 200\n",
      "1020\n",
      "200\n"
     ]
    },
    {
     "data": {
      "image/png": "[encoded data removed]",
      "text/plain": [
       "<Figure size 432x288 with 3 Axes>"
      ]
     },
     "metadata": {
      "needs_background": "light"
     },
     "output_type": "display_data"
    },
    {
     "ename": "KeyboardInterrupt",
     "evalue": "",
     "output_type": "error",
     "traceback": [
      "\u001b[1;31m---------------------------------------------------------------------------\u001b[0m",
      "\u001b[1;31mKeyboardInterrupt\u001b[0m                         Traceback (most recent call last)",
      "\u001b[1;32md:\\Repos\\dl-project-grp21\\src\\snake_trainer_TEST.ipynb Cell 5\u001b[0m in \u001b[0;36m<cell line: 1>\u001b[1;34m()\u001b[0m\n\u001b[1;32m----> <a href='vscode-notebook-cell:/d%3A/Repos/dl-project-grp21/src/snake_trainer_TEST.ipynb#W3sZmlsZQ%3D%3D?line=0'>1</a>\u001b[0m snakeUtil\u001b[39m.\u001b[39;49mtrain()\n",
      "File \u001b[1;32md:\\Repos\\dl-project-grp21\\src\\snake_util.py:268\u001b[0m, in \u001b[0;36mSnakeUtil.train\u001b[1;34m(self, num_episodes)\u001b[0m\n\u001b[0;32m    266\u001b[0m _, reward, done, _ \u001b[39m=\u001b[39m \u001b[39mself\u001b[39m\u001b[39m.\u001b[39menv\u001b[39m.\u001b[39mstep(action\u001b[39m.\u001b[39mitem())\n\u001b[0;32m    267\u001b[0m reward \u001b[39m=\u001b[39m torch\u001b[39m.\u001b[39mtensor([reward], device\u001b[39m=\u001b[39m\u001b[39mself\u001b[39m\u001b[39m.\u001b[39mdevice)\u001b[39m.\u001b[39mlong()\n\u001b[1;32m--> 268\u001b[0m episode_reward \u001b[39m+\u001b[39m\u001b[39m=\u001b[39m reward\n\u001b[0;32m    270\u001b[0m \u001b[39m# Observe new state\u001b[39;00m\n\u001b[0;32m    271\u001b[0m last_screen \u001b[39m=\u001b[39m current_screen\n",
      "\u001b[1;31mKeyboardInterrupt\u001b[0m: "
     ]
    }
   ],
   "source": [
    "snakeUtil.train()"
   ]
  },
  {
   "cell_type": "code",
   "execution_count": null,
   "metadata": {},
   "outputs": [],
   "source": [
    "print('Complete')\n",
    "env.close()\n",
    "plt.plot(rewards)\n",
    "plt.plot(moving_average_reward)\n",
    "plt.ioff()\n",
    "plt.show()"
   ]
  },
  {
   "cell_type": "code",
   "execution_count": null,
   "metadata": {},
   "outputs": [],
   "source": [
    "plt.plot(mean_loss)\n",
    "plt.plot(mean_loss[-len(mean_loss)+1000:])"
   ]
  },
  {
   "cell_type": "code",
   "execution_count": null,
   "metadata": {},
   "outputs": [],
   "source": [
    "\"\"\" Record 10 videos \"\"\"\n",
    "snakeUtil.record_episodes()"
   ]
  }
 ],
 "metadata": {
  "kernelspec": {
   "display_name": "Python 3.9.12 ('base')",
   "language": "python",
   "name": "python3"
  },
  "language_info": {
   "codemirror_mode": {
    "name": "ipython",
    "version": 3
   },
   "file_extension": ".py",
   "mimetype": "text/x-python",
   "name": "python",
   "nbconvert_exporter": "python",
   "pygments_lexer": "ipython3",
   "version": "3.9.12"
  },
  "orig_nbformat": 4,
  "vscode": {
   "interpreter": {
    "hash": "fe15e12feedce85943dad0b17b294a35a03bd34c8e6098c6c5f577741a592162"
   }
  }
 },
 "nbformat": 4,
 "nbformat_minor": 2
}
