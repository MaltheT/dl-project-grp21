{
 "cells": [
  {
   "cell_type": "code",
   "execution_count": 80,
   "metadata": {},
   "outputs": [
    {
     "name": "stderr",
     "output_type": "stream",
     "text": [
      "/home/malthet/anaconda3/lib/python3.9/site-packages/gym/utils/passive_env_checker.py:174: UserWarning: \u001b[33mWARN: Future gym versions will require that `Env.reset` can be passed a `seed` instead of using `Env.seed` for resetting the environment random number generator.\u001b[0m\n",
      "  logger.warn(\n",
      "/home/malthet/anaconda3/lib/python3.9/site-packages/gym/utils/passive_env_checker.py:190: UserWarning: \u001b[33mWARN: Future gym versions will require that `Env.reset` can be passed `return_info` to return information from the environment resetting.\u001b[0m\n",
      "  logger.warn(\n",
      "/home/malthet/anaconda3/lib/python3.9/site-packages/gym/utils/passive_env_checker.py:195: UserWarning: \u001b[33mWARN: Future gym versions will require that `Env.reset` can be passed `options` to allow the environment initialisation to be passed additional information.\u001b[0m\n",
      "  logger.warn(\n"
     ]
    }
   ],
   "source": [
    "#!/usr/bin/env python\n",
    "import sys\n",
    "sys.path.insert(0, './gym-snake/')\n",
    "import gym\n",
    "import time\n",
    "from optparse import OptionParser\n",
    "import gym_snake\n",
    "from gym_snake.envs.constants import GridType, Action4, Action6\n",
    "from PyQt5.QtCore import Qt\n",
    "\n",
    "from gym import wrappers\n",
    "import math\n",
    "import random\n",
    "import numpy as np\n",
    "import matplotlib\n",
    "import matplotlib.pyplot as plt\n",
    "from collections import namedtuple, deque\n",
    "from itertools import count\n",
    "from PIL import Image\n",
    "\n",
    "import torch\n",
    "import torch.nn as nn\n",
    "import torch.optim as optim\n",
    "import torch.nn.functional as F\n",
    "import torchvision.transforms as T\n",
    "import warnings\n",
    "warnings.filterwarnings(\"ignore\", category=DeprecationWarning) \n",
    "\n",
    "__author__ = \"Luksa Koch Vindbjerg\"\n",
    "__email__ = \"201906015@post.au.dk\"\n",
    "\n",
    "is_done = False\n",
    "\n",
    "def resetEnv(env):\n",
    "    global is_done\n",
    "\n",
    "    is_done = False\n",
    "    env.reset()\n",
    "\n",
    "\n",
    "# Load the gym environment\n",
    "env8 = gym.make('Snake-8x8-v0')\n",
    "# env8 = gym.make('Snake-16x16-v0')\n",
    "\n",
    "resetEnv(env8)\n",
    "resetEnv(env8)\n",
    "\n",
    "# set up matplotlib\n",
    "is_ipython = 'inline' in matplotlib.get_backend()\n",
    "if is_ipython:\n",
    "    from IPython import display\n",
    "\n",
    "plt.ion()\n",
    "\n",
    "# if gpu is to be used\n",
    "device = torch.device(\"cuda\" if torch.cuda.is_available() else \"cpu\")"
   ]
  },
  {
   "cell_type": "code",
   "execution_count": 81,
   "metadata": {},
   "outputs": [],
   "source": [
    "Transition = namedtuple('Transition',\n",
    "                        ('state', 'action', 'next_state', 'reward'))\n",
    "\n",
    "\n",
    "class ReplayMemory(object):\n",
    "\n",
    "    def __init__(self, capacity):\n",
    "        self.memory = deque([],maxlen=capacity)\n",
    "\n",
    "    def push(self, *args):\n",
    "        \"\"\"Save a transition\"\"\"\n",
    "        self.memory.append(Transition(*args))\n",
    "\n",
    "    def sample(self, batch_size):\n",
    "        return random.sample(self.memory, batch_size)\n",
    "\n",
    "    def __len__(self):\n",
    "        return len(self.memory)"
   ]
  },
  {
   "cell_type": "markdown",
   "metadata": {},
   "source": [
    "Displaying the grid"
   ]
  },
  {
   "cell_type": "code",
   "execution_count": 82,
   "metadata": {},
   "outputs": [
    {
     "name": "stderr",
     "output_type": "stream",
     "text": [
      "/home/malthet/anaconda3/lib/python3.9/site-packages/torchvision/transforms/transforms.py:332: UserWarning: Argument 'interpolation' of type int is deprecated since 0.13 and will be removed in 0.15. Please use InterpolationMode enum.\n",
      "  warnings.warn(\n",
      "/home/malthet/anaconda3/lib/python3.9/site-packages/gym/utils/passive_env_checker.py:280: UserWarning: \u001b[33mWARN: No render modes was declared in the environment (env.metadata['render_modes'] is None or not defined), you may have trouble when calling `.render()`.\u001b[0m\n",
      "  logger.warn(\n",
      "/home/malthet/anaconda3/lib/python3.9/site-packages/skimage/io/_plugins/matplotlib_plugin.py:150: UserWarning: Float image out of standard range; displaying image with stretched contrast.\n",
      "  lo, hi, cmap = _get_display_range(image)\n",
      "Clipping input data to the valid range for imshow with RGB data ([0..1] for floats or [0..255] for integers).\n"
     ]
    },
    {
     "data": {
      "text/plain": [
       "<matplotlib.image.AxesImage at 0x7f9a62156cd0>"
      ]
     },
     "execution_count": 82,
     "metadata": {},
     "output_type": "execute_result"
    },
    {
     "data": {
      "image/png": "[encoded data removed]",
      "text/plain": [
       "<Figure size 432x288 with 2 Axes>"
      ]
     },
     "metadata": {
      "needs_background": "light"
     },
     "output_type": "display_data"
    }
   ],
   "source": [
    "resize = T.Compose([T.ToPILImage(),\n",
    "                    T.Resize(8, interpolation=Image.BOX),\n",
    "                    T.ToTensor()])\n",
    "\n",
    "def get_screen(fromEnv):\n",
    "    # Returned screen requested by gym is 400x600x3, but is sometimes larger\n",
    "    # such as 800x1200x3. Transpose it into torch order (CHW).\n",
    "    screen = fromEnv.render(mode='rgb_array').transpose((2, 0, 1))\n",
    "\n",
    "    # Convert to float, rescale, convert to torch tensor\n",
    "    # (this doesn't require a copy)\n",
    "    screen = np.ascontiguousarray(screen, dtype=np.float32) / 255\n",
    "    screen = torch.from_numpy(np.round(screen))\n",
    "    \n",
    "    # Resize, and add a batch dimension (BCHW)\n",
    "    return resize(screen).unsqueeze(0)\n",
    "    # return screen.unsqueeze(0)\n",
    "\n",
    "\n",
    "from skimage import io\n",
    "\n",
    "last_screen = get_screen(env8)\n",
    "env8.step(1)\n",
    "current_screen = get_screen(env8)\n",
    "img = current_screen + last_screen\n",
    "# print(np.round(img))\n",
    "io.imshow(img.squeeze(0).numpy().transpose(2, 1, 0))\n",
    "\n",
    "    \n",
    "                   "
   ]
  },
  {
   "cell_type": "markdown",
   "metadata": {},
   "source": [
    "Loading CNN model"
   ]
  },
  {
   "cell_type": "code",
   "execution_count": 83,
   "metadata": {},
   "outputs": [],
   "source": [
    "\"\"\"class old_model_architecture(nn.Module):\n",
    "        def __init__(self, outputs):\n",
    "            super(old_model_architecture, self).__init__()\n",
    "            self.conv1 = nn.Conv2d(3, 32, kernel_size=3, padding='same')\n",
    "            # self.maxpool1 = nn.MaxPool2d(kernel_size=2)\n",
    "            self.conv2 = nn.Conv2d(32, 64, kernel_size=5, padding='same')\n",
    "            # self.maxpool2 = nn.MaxPool2d(kernel_size=2)\n",
    "            self.conv3 = nn.Conv2d(64, 64, kernel_size=5, padding='same')\n",
    "            self.bn3 = nn.BatchNorm2d(64)\n",
    "            self.fc1 = nn.Linear(4096, outputs)\n",
    "\n",
    "\n",
    "        def forward(self, x):\n",
    "            x = x.to(device)\n",
    "            x = F.relu(self.conv1(x))\n",
    "            # x = self.maxpool1(x)\n",
    "            x = F.relu(self.conv2(x))\n",
    "            # x = self.maxpool2(x)\n",
    "            x = F.relu(self.conv3(x))\n",
    "            x = self.bn3(x)\n",
    "            x = self.fc1(x.view(x.size(0), -1))\n",
    "            return x\n",
    "\"\"\"\n",
    "class old_model_architecture(nn.Module):\n",
    "    def __init__(self, outputs):\n",
    "        super(old_model_architecture, self).__init__()\n",
    "        self.flatten = nn.Flatten()\n",
    "        self.input = nn.Linear(192, 512)\n",
    "        self.h = nn.Linear(512, 512)\n",
    "        self.output = nn.Linear(512, outputs)\n",
    "    # Called with either one element to determine next action, or a batch\n",
    "    # during optimization. Returns tensor([[left0exp,right0exp]...]).\n",
    "    def forward(self, x):\n",
    "        x = x.to(device)\n",
    "        x = self.flatten(x)\n",
    "        x = F.relu(self.input(x))\n",
    "        x = F.relu(self.h(x))\n",
    "        x = F.relu(self.h(x))\n",
    "        x = F.relu(self.h(x))\n",
    "        x = self.output(x)\n",
    "        return x"
   ]
  },
  {
   "cell_type": "code",
   "execution_count": 84,
   "metadata": {},
   "outputs": [],
   "source": [
    "\"\"\" Hyperparameters \"\"\"\n",
    "BATCH_SIZE = 128\n",
    "GAMMA = 0.95\n",
    "\n",
    "exploration_rate = 1.\n",
    "exploration_decay = 0.9995\n",
    "exploration_min = 0.01\n",
    "\n",
    "TARGET_UPDATE = 50\n",
    "learning_rate = 1e-4  \n",
    "decay_rate = 0.99 \n",
    "num_episodes = 500\n",
    "MEMORY_SIZE = 10000"
   ]
  },
  {
   "cell_type": "markdown",
   "metadata": {},
   "source": [
    "# Modifying the model"
   ]
  },
  {
   "cell_type": "code",
   "execution_count": 85,
   "metadata": {},
   "outputs": [],
   "source": [
    "path_cnn = 'models/snakeaiFCv1.pkl'\n",
    "# \\dl-project-grp21\\src\\models\\snakeaiCNN1.pkl\n",
    "\n",
    "tf_model_16 = old_model_architecture(env8.action_space.n).to(device)\n",
    "tf_model_16.load_state_dict(torch.load(path_cnn))\n",
    "tf_model_16.eval()\n",
    "\n",
    "\n",
    "optimizer = optim.Adam(tf_model_16.parameters())\n",
    "\n",
    "criterion = nn.SmoothL1Loss()\n"
   ]
  },
  {
   "cell_type": "markdown",
   "metadata": {},
   "source": [
    "Attempting ResNet"
   ]
  },
  {
   "cell_type": "code",
   "execution_count": 86,
   "metadata": {},
   "outputs": [],
   "source": [
    "\"\"\" Initialize experince memory \"\"\"\n",
    "memory = ReplayMemory(MEMORY_SIZE)\n",
    "\n",
    "steps_done = 0\n",
    "\n",
    "def select_action(state):\n",
    "    global steps_done\n",
    "    global exploration_rate\n",
    "    exploration_rate *= exploration_decay\n",
    "    exploration_rate = max(exploration_rate, exploration_min)\n",
    "    steps_done += 1\n",
    "    if np.random.rand() > exploration_rate:\n",
    "        with torch.no_grad():\n",
    "            # t.max(1) will return largest column value of each row.\n",
    "            # second column on max result is index of where max element was\n",
    "            # found, so we pick action with the larger expected reward.\n",
    "            return tf_model_16(state).max(1)[1].view(1, 1)\n",
    "    else:\n",
    "        return torch.tensor([[random.randrange(env8.action_space.n)]], device=device, dtype=torch.long)"
   ]
  },
  {
   "cell_type": "code",
   "execution_count": 87,
   "metadata": {},
   "outputs": [
    {
     "name": "stderr",
     "output_type": "stream",
     "text": [
      "/home/malthet/anaconda3/lib/python3.9/site-packages/gym/wrappers/record_video.py:78: UserWarning: \u001b[33mWARN: Overwriting existing videos at /home/malthet/deeplearning_ws/dl-project-grp21/src/video/result folder (try specifying a different `video_folder` for the `RecordVideo` wrapper if this is not desired)\u001b[0m\n",
      "  logger.warn(\n"
     ]
    }
   ],
   "source": [
    "training = False\n",
    "\n",
    "if(not training):\n",
    "\n",
    "    num_episodes = 50\n",
    "\n",
    "    env8 = gym.wrappers.RecordVideo(env8, 'video/result', episode_trigger = lambda x: x % 10 == 0)\n",
    "\n",
    "    \n",
    "    rewards = []\n",
    "\n",
    "    for i_episode in range(num_episodes):\n",
    "\n",
    "        # Initialize the environment and state\n",
    "        episode_reward = 0\n",
    "        env8.reset()\n",
    "        last_screen = get_screen(env8)\n",
    "        current_screen = get_screen(env8)\n",
    "        state = current_screen + last_screen\n",
    "\n",
    "        for t in count():\n",
    "            # Select and perform an action\n",
    "            action = tf_model_16(state).max(1)[1].view(1, 1)\n",
    "            _, reward, done, _ = env8.step(action.item())\n",
    "            reward = torch.tensor([reward], device=device)\n",
    "            episode_reward += reward\n",
    "\n",
    "            # Observe new state\n",
    "            last_screen = current_screen\n",
    "            current_screen = get_screen(env8)\n",
    "            if not done:\n",
    "                next_state = current_screen + last_screen\n",
    "            else:\n",
    "                next_state = None\n",
    "\n",
    "            # Move to the next state\n",
    "            state = next_state\n",
    "\n",
    "            if done:\n",
    "                rewards.append(episode_reward.item())\n",
    "                break"
   ]
  },
  {
   "cell_type": "code",
   "execution_count": 88,
   "metadata": {},
   "outputs": [
    {
     "data": {
      "image/png": "[encoded data removed]",
      "text/plain": [
       "<Figure size 432x288 with 1 Axes>"
      ]
     },
     "metadata": {
      "needs_background": "light"
     },
     "output_type": "display_data"
    }
   ],
   "source": [
    "plt.stem(rewards)\n",
    "np.savetxt(\"results_FC.csv\", rewards)"
   ]
  },
  {
   "cell_type": "code",
   "execution_count": null,
   "metadata": {},
   "outputs": [],
   "source": []
  }
 ],
 "metadata": {
  "kernelspec": {
   "display_name": "Python 3.9.7 ('base')",
   "language": "python",
   "name": "python3"
  },
  "language_info": {
   "codemirror_mode": {
    "name": "ipython",
    "version": 3
   },
   "file_extension": ".py",
   "mimetype": "text/x-python",
   "name": "python",
   "nbconvert_exporter": "python",
   "pygments_lexer": "ipython3",
   "version": "3.9.7"
  },
  "orig_nbformat": 4,
  "vscode": {
   "interpreter": {
    "hash": "2f970383f63a6211923d819f8b8a7fd397c55e0bd4238117df48ab9ed69510a7"
   }
  }
 },
 "nbformat": 4,
 "nbformat_minor": 2
}
